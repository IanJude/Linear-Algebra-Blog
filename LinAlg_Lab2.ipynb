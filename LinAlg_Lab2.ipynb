{
 "cells": [
  {
   "cell_type": "markdown",
   "metadata": {},
   "source": [
    "# Linear ALgebra (CpE210A)"
   ]
  },
  {
   "cell_type": "markdown",
   "metadata": {},
   "source": [
    "##### Laboratory 2: Plotting Vectors using NumPy and MatPlotLib"
   ]
  },
  {
   "cell_type": "markdown",
   "metadata": {},
   "source": [
    "Coded and Submitted by:\n",
    "Timbungco, Ian Jude J. \n"
   ]
  },
  {
   "cell_type": "markdown",
   "metadata": {},
   "source": [
    "Section: 58010"
   ]
  },
  {
   "cell_type": "code",
   "execution_count": 2,
   "metadata": {},
   "outputs": [],
   "source": [
    "import numpy as np\n",
    "import math\n",
    "import matplotlib.pyplot as plt\n",
    "import matplotlib\n",
    "\n",
    "%matplotlib inline"
   ]
  },
  {
   "cell_type": "code",
   "execution_count": 16,
   "metadata": {},
   "outputs": [],
   "source": [
    "A = np.array ([4,3])\n",
    "B = np.array ([5,3])"
   ]
  },
  {
   "cell_type": "markdown",
   "metadata": {},
   "source": [
    "##### Graded Cell 1"
   ]
  },
  {
   "cell_type": "code",
   "execution_count": 1,
   "metadata": {},
   "outputs": [],
   "source": [
    "def track_eagle(make_figs=False):\n",
    "    long = np.random.randint(-10,10, size=3) ## since we don't actually have eagle tracking data we will use\n",
    "    lat = np.random.randint(-10,10, size=3)  ## random integers for this activity. These two lines will produce\n",
    "                                             ## a vector with shape of (3,) describing the distances for the \n",
    "                                             ## eagle's flight.\n",
    "\n",
    "    dist1 = np.array([long[0], lat[0]])      ## setup the array for each vector for the eagle's flight.\n",
    "    dist2 = np.array([long[1], lat[1]])\n",
    "    dist3 = np.array([long[2], lat[2]])\n",
    "\n",
    "    dist_total = dist1 + dist2 + dist3       ## compute for the resultant vector for the eagle's flight.\n",
    "    disp = np.linalg.norm(dist_total)  ## compute for the magnitude of the displacement\n",
    "    alpha = 10**-6 \n",
    "    theta = np.arctan(dist_total[1] / (dist_total [0] + alpha)) ## compute for the angle of the displacement. Hint:\n",
    "    theta = np.degrees(theta)                ## convert theta from rad to deg.\n",
    "    \n",
    "    ## Plotting the PH Eagle flight vectors.\n",
    "    n =2 \n",
    "    plt.figure(figsize=(10,10))\n",
    "    plt.title('Philippine Eagle Flight Plotter')\n",
    "    plt.xlim(-30, 30)\n",
    "    plt.ylim(-30, 30)\n",
    "    plt.xlabel('Latitudinal Distance')\n",
    "    plt.ylabel('Longitudinal Distance')\n",
    "    plt.grid()\n",
    "  \n",
    "    \n",
    "    ### Self-discovery code block (Refer to guide question 2 for the task)\n",
    "    \n",
    "    plt.quiver(0,0, dist1[0], dist1[1], \n",
    "               angles='xy', scale_units='xy',scale=1, color='red', \n",
    "               label='Trajectory 1: {:.2f}m.'.format(np.linalg.norm(dist1)))\n",
    "    plt.quiver(dist1[0], dist1[1], dist2[0], dist2[1], \n",
    "               angles='xy', scale_units='xy',scale=1, color='blue',\n",
    "               label='Trajectory 2: {:.2f}m.'.format(np.linalg.norm(dist2)))\n",
    "    plt.quiver(np.add(dist1[0],dist2[0]), np.add(dist1[1],dist2[1]),\n",
    "               dist3[0], dist3[1], angles='xy', scale_units='xy',scale=1, color='green',\n",
    "              label='Trajectory 3: {:.2f}m.'.format(np.linalg.norm(dist3)))\n",
    "    plt.quiver(0,0, dist_total[0], dist_total[1], \n",
    "               angles='xy', scale_units='xy',scale=1, color='orange',\n",
    "              label='Displacement: {:.2f}m. @ {:.2f}'.format(disp, theta))\n",
    "    \n",
    "    plt.legend()\n",
    "    \n",
    "    if make_figs:\n",
    "        plt.savefig(f'LinAlg-Lab2-PH Eagle-{int(disp)}@{int(theta)}.png', dpi=300)\n",
    "    \n",
    "    plt.show()\n"
   ]
  },
  {
   "cell_type": "code",
   "execution_count": 6,
   "metadata": {},
   "outputs": [
    {
     "name": "stdout",
     "output_type": "stream",
     "text": [
      "[11 12]\n"
     ]
    },
    {
     "data": {
      "image/png": "[encoded data removed]",
      "text/plain": [
       "<Figure size 720x720 with 1 Axes>"
      ]
     },
     "metadata": {
      "needs_background": "light"
     },
     "output_type": "display_data"
    }
   ],
   "source": [
    "track_eagle(make_figs= True) ## Let 'make_figs' equal to False during debugging."
   ]
  },
  {
   "cell_type": "markdown",
   "metadata": {},
   "source": [
    "##### GUIDE QUESTIONS: "
   ]
  },
  {
   "cell_type": "markdown",
   "metadata": {},
   "source": [
    " ###### 1. What is the use of the variable  α ?\n",
    "- The variable α use in this activity is the angular acceleration. According to courseslearning.com, \"Angular Acceleration is the rate of change in velocity.\" Angular Acceleration is used to find the the rate of change of the eagle velocity, the unit of Angular Acceleration is rad/s. It is multiply to x / [0] since it is on the cosine angle. The variable is used to find the angle of the velocity of the eagle\n",
    "\n",
    "2. Kindly explain the process of plotting the eagle flight vectors.\n",
    " \n",
    "- This the code for the plotting the eagle vectors\n",
    "     \n",
    "    plt.figure(figsize=(10,10))\n",
    "    plt.title('Philippine Eagle Flight Plotter')\n",
    "    plt.xlim(-30, 30)\n",
    "    plt.ylim(-30, 30)\n",
    "    plt.xlabel('Latitudinal Distance')\n",
    "    plt.ylabel('Longitudinal Distance')\n",
    "    plt.grid()\n",
    "    n=2 \n",
    "    \n",
    " - In the code above it to plot the the graph of the plotting of eagle vectors. The plt figure  is to plot the length and width of the figure, which is 10x10. The xlim and ylim is set to -30 and 30. And with their label (name) of the xlim and ylim. n=2 since the shape of the vector is 2.Then input plt.grid() to create the grid. \n",
    "\n",
    " plt.quiver(0,0, dist1[0], dist1[1], \n",
    "               angles='xy', scale_units='xy',scale=1, color='red', \n",
    "               label='Trajectory 1: {:.2f}m.'.format(np.linalg.norm(dist1)))\n",
    "               \n",
    "               \n",
    " - In the code above, the plt.quiver is from matplotlib not from numpy. According to the matplotlib.org,\"quiver([X,Y], U, V, [C])\"; whereas the X, Y is to define the arrow locations; U,V define the directions of the arrow , and the C is the color of the arrow. Then the 0,0 is the initial location of the arrow; the dist1[0], dist1[1] is the final location of the arrow.\n",
    "     The angles='xy' is used for the plotting, such it use x and y axis. Next is scale_units = 'xy', scale=1; it's now scaling the angles 'xy' with scale of 1, for instance the x- axis is 0.5 long and the y- axis is 0.5 long.\n",
    "     Next is on the label. This is to label that the Trjectory 1 is dist1.  the {:.2f} is used to round off the answer in two decimal places. The np.linalg.norm(dist1) is a function that can return value. Then return value of dist1. \n",
    "     \n",
    "  plt.quiver(np.add(dist1[0],dist2[0]), np.add(dist1[1],dist2[1]), dist3[0], dist3[1]\n",
    "      \n",
    " - In the code above it add the 2 dist for the dist3 to connect. I tried not adding the two the dist3, dist3 line didn't connect. I don't know the logic behind it but it works! \n",
    " \n",
    "  plt.quiver(0,0, dist_total[0], dist_total[1],\n",
    "  \n",
    " - In the code above, it add the 3 dist, where dist_total[0] and dist[1] is the final location of the arrow. \n",
    " \n",
    "  plt.legend()\n",
    "  \n",
    "  - In the code above, it creates a legend composing of the Trajectory 1, Trajectory 2, Trajectory 3 and the displacement. \n",
    "  \n",
    "3. Flow chart describing the 'track_eagle' function:\n",
    "  <img src =\"Flowchart/Flowchart of track_eagle.png\" width=500 align=\"center\"/>"
   ]
  },
  {
   "cell_type": "markdown",
   "metadata": {},
   "source": [
    "##### Graded Cell 2"
   ]
  },
  {
   "cell_type": "markdown",
   "metadata": {},
   "source": [
    "def eagle_movements(initialmotion, multiplier): # define eagle_movements function with value initial_motion and multiplier. \n",
    "    vector_shape = 4   # No. of vector_shape\n",
    "    $motion1 = np.zeros((vectorshape-1,))$ # np.zeroes made the array to zero, [0,0,0]\n",
    "    $motion2 = np.zeros((vectorshape-2,))$ # np.zeroes made the array to zero, [0,0]\n",
    "    $Product_vector = np.array([multiplier**3, multiplier**2, multiplier, 1])$ # The vectors of Product_vector \n",
    "    \n",
    "    if initialmotion.shape == (vector_shape):  # Conditional Statement...the initial motion.shape is equal to vector_shape\n",
    "    \n",
    "   $motion1 = np.array([3*initial_motion[0],2*initial_motion[1], initial_motion[2]])$ # Finding array of motion1 \n",
    "   $motion2 = np.array([2*motion1[0],motion1[1]])$   # Finding array of motion2\n",
    "   $Index1_sum = np.sum(np.multiply(initialmotion, productvector))$ # Multiplying the initial_position and Product_vector and find its sum\n",
    "   $Index2_sum = np.sum(np.multiply(motion1, productvector[1:]))$# Multiplying the initial_posistion and Product_vector getting the value from 0-1 (array slicing) and find its sum\n",
    "   $Index3_sum = $np.sum(np.multiply(motion2, productvector[2:]))$# Multiplying the initial_position and Product_vector getting the value from 0-2 (array slicing) and find its sum\n",
    "        \n",
    "    else:\n",
    "        print(f'Input displacement vector is not valid. Make sure that the vector shape is ({vector_shape},)')#If it didn't satisfy the if confition, print this\n",
    "    \n",
    "    return Index1_sum, Index2_sum, Index3_sum   #Return value of Index1_sum, Index2_sum, Index3_sum\n",
    "    \n",
    "Explanation: The function eagle_kinematics is to fin the eagle final movement, given the initial motion, motion1, motion2, and motion 3. The if else condition is there for the program will know if the vector_shape will be equal to the shape of initialmotion. The do arithmethic to get the final movement of the eagle. "
   ]
  },
  {
   "cell_type": "code",
   "execution_count": 3,
   "metadata": {},
   "outputs": [],
   "source": [
    "# START of function\n",
    "\n",
    "def eagle_movements(initialmotion, multiplier): # define eagle_movements function with value initial_motion and multiplier. \n",
    "    vector_shape = 4   # No. of vector_shape\n",
    "    motion1 = np.zeros((vector_shape-1,)) # np.zeroes made the array to zero, [0,0,0]\n",
    "    motion2 = np.zeros((vector_shape-2,)) # np.zeroes made the array to zero, [0,0]\n",
    "    Product_vector = np.array([multiplier**3, multiplier**2, multiplier, 1]) # The vectors of Product_vector \n",
    "    \n",
    "    if initialmotion.shape == (vector_shape):  # Conditional Statement...the s.shape is equal to vector_shape\n",
    "        motion1 = np.array([3*initial_motion[0],2*initial_motion[1], initial_motion[2]]) # Finding array of motion1 \n",
    "        motion2 = np.array([2*motion1[0],motion1[1]])   # Finding array of motion2\n",
    "        Index1_sum = np.sum(np.multiply(initialmotion, productvector))# Multiplying the initial_position and Product_vector and find its sum\n",
    "        Index2_sum = np.sum(np.multiply(motion1, productvector[1:]))# Multiplying the initial_posistion and Product_vector getting the value from 0-1 (array slicing) and find its sum\n",
    "        Index3_sum = np.sum(np.multiply(motion2, productvector[2:]))# Multiplying the initial_position and Product_vector getting the value from 0-2 (array slicing) and find its sum\n",
    "        \n",
    "    else:\n",
    "        print(f'Input displacement vector is not valid. Make sure that the vector shape is ({vector_shape},)')#If it didn't satisfy the if confition, print this\n",
    "    \n",
    "    return Index1_sum, Index2_sum, Index3_sum   #Return value of Index1_sum, Index2_sum, Index3_sum\n",
    "\n",
    "#END of function"
   ]
  },
  {
   "cell_type": "code",
   "execution_count": 5,
   "metadata": {},
   "outputs": [
    {
     "data": {
      "text/plain": [
       "(28, 31, 26)"
      ]
     },
     "execution_count": 5,
     "metadata": {},
     "output_type": "execute_result"
    }
   ],
   "source": [
    "initialmotion = np.array([2,1,  # The vectors of initial_motion\n",
    "                           3,2]) \n",
    "multiplier = 2                   # Use this as a multiplier to Product_vector\n",
    "eagle_movements(initialmotion, multiplier)  # The value of initial_motion and multiplier with eagle_motion function"
   ]
  },
  {
   "cell_type": "markdown",
   "metadata": {},
   "source": [
    "##### Guide Questions\n",
    "\n",
    " ###### 1. What is the function for? Explain the inputs, process, functions used, and the outputs.\n",
    "\n",
    "- The use of the function is to find the movement of the eagle. To have an output, find the the vectors of motion1 and vectors of motion2. The functions used in the code above are np.multiply, np.sum used to calculate vectors, np.zero and np.array used to contain the vectors. The ouput, is the final eagle_motion in the vectors. \n",
    " \n",
    "2. Kindly provide equations for  st , vt , and  at  basing on their code.\n",
    "\n",
    "- $s_t (Index1) = \\sum(initialmotion * productvectors)$\n",
    "\n",
    "- $v_t (Index2) = \\sum(motion1 * productvectors[1:])$\n",
    "\n",
    "- $a_t (Index3) = \\sum(motion2 * productvectors[2:])$\n",
    " \n",
    "3. Re-type the 'eagle_kinematics' function in your jupyter notebook. Write a brief description of the function before the code cell in a markdown. Include the equations from (2.).\n",
    " - Explanation is at before the code"
   ]
  },
  {
   "cell_type": "markdown",
   "metadata": {},
   "source": [
    "##### Graded Cell 3"
   ]
  },
  {
   "cell_type": "code",
   "execution_count": 14,
   "metadata": {},
   "outputs": [],
   "source": [
    "def month_profit_trace(profit, reach, make_figs=True): ## You can simplify/ optimize this code for extra points\n",
    "    if (profit.shape == (4,)) and (reach.shape == (4,)): \n",
    "        week1 = np.array((reach[1], profit[0]))       \n",
    "        week2 = np.array((reach[1], profit[1]))\n",
    "        week3 = np.array((reach[2], profit[2]))\n",
    "        week4 = np.array((reach[3], profit[3]))\n",
    "        \n",
    "        week_total = week1 + week2 + week3 + week4    \n",
    "        week_performance = np.linalg.norm(week_total)\n",
    "        wp = float(\"{0:.2f}\".format(week_performance))\n",
    "        alpha = 10**-6\n",
    "        theta = np.arctan(week_total[1] / (week_total [0] + alpha))## compute for the angle of the displacement. Hint: \n",
    "        reach_gradient = np.degrees(theta) \n",
    "        r_g = float(\"{0:.2f}\".format(reach_gradient))\n",
    "        \n",
    "\n",
    "        plt.figure(figsize=(16,5))\n",
    "        plt.title('Bebang\\'s Month Post Efficiency')\n",
    "        plt.xlim(0,1*np.sum(reach))\n",
    "        plt.ylim(-np.sum(np.abs(profit)),np.sum(np.abs(profit)))\n",
    "        plt.xlabel('FB Post Reach Increment')\n",
    "        plt.ylabel('Profit')\n",
    "        plt.grid()\n",
    "        n = 2\n",
    "        \n",
    "        plt.quiver(0,0, week1[0], week1[1], \n",
    "                   angles='xy', scale_units='xy',scale=1, color='yellowgreen', width=0.0025,\n",
    "                   label='Week 1: {:.2f}'.format(np.linalg.norm(week1)))\n",
    "        plt.quiver(week1[0], week1[1], week2[0], week2[1], \n",
    "                   angles='xy', scale_units='xy',scale=1, color='lightgreen', width=0.0025,\n",
    "                   label='Week 2: {:.2f}'.format(np.linalg.norm(week2)))\n",
    "        plt.quiver(np.add(week1[0],week2[0]), np.add(week1[1],week2[1]),\n",
    "                   week3[0], week3[1], angles='xy', scale_units='xy',scale=1, color='green', width=0.0025,\n",
    "                  label='Week 3: {:.2f}'.format(np.linalg.norm(week3)))\n",
    "        \n",
    "        week_4 = week1 + week2 + week3\n",
    "        plt.quiver(week_4[0],week_4[1],week4[0], week4[1], angles='xy', scale_units='xy',scale=1, color='orange', width=0.0025,\n",
    "                  label='Week 4: {:.2f}'.format(np.linalg.norm(week4)))\n",
    "\n",
    "        plt.quiver(0,0, week_total[0], week_total[1], \n",
    "                   angles='xy', scale_units='xy',scale=1, color='red', width=0.005,\n",
    "                  label=f'Efficiency: {wp} @ {r_g}')\n",
    "        plt.legend(loc='upper left')\n",
    "\n",
    "        if make_figs:\n",
    "            plt.savefig(f'LinAlg-Lab2-Bebang Post Eff-{int(week_performance)}@{int(reach_gradient)}.png', dpi=300)\n",
    "\n",
    "        plt.show()\n",
    "    \n",
    "    else:\n",
    "        print('Out of Business') ## Make a more appropriate error statement. "
   ]
  },
  {
   "cell_type": "code",
   "execution_count": 15,
   "metadata": {},
   "outputs": [
    {
     "data": {
      "image/png": "[encoded data removed]",
      "text/plain": [
       "<Figure size 1152x360 with 1 Axes>"
      ]
     },
     "metadata": {
      "needs_background": "light"
     },
     "output_type": "display_data"
    }
   ],
   "source": [
    "profit= np.array([9000, 8000, 7000, 6000])    ## You can change the values to make different scenarios\n",
    "reach = np.array([100, 100, 500, 15])             ## You can change the values to make different scenarios\n",
    "\n",
    "month_profit_trace(profit, reach, make_figs=False) ## Toggle 'make_figs' during debugging or making documentations"
   ]
  },
  {
   "cell_type": "markdown",
   "metadata": {},
   "source": [
    "###### Guide Questions\n",
    "\n",
    " ###### 1. What is the relationship between the FB post reach and the profit?\n",
    "\n",
    "- The relationship between the FB post reach and the profit is they're directly proportional. As seen in the graph, when the profit is down, the FB post reach is also down. In the week 4, when the profit is getting higher, means the view on the FB post reach is also attracting audience to avail the product; hence more profit. \n",
    "\n",
    "2. Why is profit in the y-axis and FB post reach on the x-axis and not the other way around?\n",
    "\n",
    "- The profit is on y-axis considering it is more dependent to the FB Post Reach. My friend will not earn any profit, if the post on FB isn't attracting audience. If the FB Post recach is dependent to profit, then if the view is higher it doesn't mean the profit is getting higher too. Meaning maybe the audience just sight the product, not requiring it to buy it. \n",
    "\n",
    "3. Kindly explain the process of plotting the post efficiency vectors.\n",
    "\n",
    "- The process between the first graded cell and post efficiency vectors is somehow the same. The only difference between is, in this 3rd graded cell have a 4th vector unlike in the 1st graded cell. \n",
    "\n",
    "\n",
    "week_4 = week1 + week2 + week3\n",
    "        plt.quiver(week_4[0],week_4[1],week4[0], week4[1], angles='xy', scale_units='xy',scale=1, color='orange',      width=0.0025,\n",
    "                  label='Week 4: {:.2f}'.format(np.linalg.norm(week4)))\n",
    "\n",
    " - The code above is not viable in the 1st graded cell since it only have 3 vectors, not included the summation of vectors. To connect the week3 and week4 vectors it need to plus the week1, week2, week3. After getting the sum, it will be the initial position of of the arrow, week_4[0], week_4[1]. Then state the final position of the arrow, week4[0], week4[1]. Then the process of the plotting the post efficiency vectors then plotting the track_eagle is the same.\n",
    " \n",
    "4. Provide a necessary equations that are representative to finding the performanceweek  and reachgradient.\n",
    "\n",
    "- For the performanceweek the equation that used is the displacement formula, disp = np.sqrt(((week1[0] + wwek2[0] + week3[0] + week4[0]) **2) + ((week1[1] + week2[1] + week3[1] + week[1]) **2)). As per definition of displacement, it used to find the distance from the initial position to the final position. In performance week, it is also the same with displacement, to  find if the business of my friend is earning a profit through FB Post reach. \n",
    "\n",
    "- For the reachgradient, the equation that used is the theta formula, theta =  np.arctan((week1[1]+week2[1]+week3[1] + week4[1]) + (week1[0] + week2[0] + week3[0] + week4[0])), then convert it to degree since arctan is solving for the radian, reach_gradient = np.degrees(theta). To find if Bebang's business is growing, theta formula is used. Since it the arrow will either go up or go down. \n",
    "\n",
    "5. Try to alter the 'reach' and 'profit' values to display different scenarios. Save at least 3 scenarios then append and discuss the figures in your report.\n",
    "\n",
    "-  In alteration the figure, it explains more the relationship between the two variables, the FB Post Reach and Profit. Even altering the values of FB Post Reach and Profit, they are still directly proportional to each other. Altering  the values to negative they're still proportional to each other.\n",
    "-  As I observed, in week 1 to week 4 if the FB post reach is higher or lower, the profit will be also the same. If the FB Post reach is negetive number, the profit will also be the same. The red arrow in the graph show the performance of Bebang's business.  \n",
    "- The graph of alteration of values are in the lab report.  \n",
    "\n",
    "6. What can be observed and concluded with the behavior of the vectors with respect to post efficiency?\n",
    "\n",
    "- The behavior of the vectors with repsect to post effiency is the arrow is going up. Even Bebang's didn't earn profit, the arrow still going up. As opposed to the, that the FB Post reach and Profit is directly proportional; the arrow of post efficiency is not directly proportional nor inversely proportional to FB Post reach. \n",
    "\n"
   ]
  }
 ],
 "metadata": {
  "kernelspec": {
   "display_name": "Python 3",
   "language": "python",
   "name": "python3"
  },
  "language_info": {
   "codemirror_mode": {
    "name": "ipython",
    "version": 3
   },
   "file_extension": ".py",
   "mimetype": "text/x-python",
   "name": "python",
   "nbconvert_exporter": "python",
   "pygments_lexer": "ipython3",
   "version": "3.8.3"
  }
 },
 "nbformat": 4,
 "nbformat_minor": 4
}

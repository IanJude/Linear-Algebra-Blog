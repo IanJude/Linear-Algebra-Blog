{
 "cells": [
  {
   "cell_type": "markdown",
   "metadata": {},
   "source": [
    "## Laboratory 1: Getting Acquianted with Python "
   ]
  },
  {
   "cell_type": "markdown",
   "metadata": {},
   "source": [
    "##### Coded and Submitted by: "
   ]
  },
  {
   "cell_type": "markdown",
   "metadata": {},
   "source": [
    "##### Timbungco, Ian Jude J. "
   ]
  },
  {
   "cell_type": "markdown",
   "metadata": {},
   "source": [
    "##### Section: 58010"
   ]
  },
  {
   "cell_type": "markdown",
   "metadata": {},
   "source": [
    "###### Graded Cell 1"
   ]
  },
  {
   "cell_type": "code",
   "execution_count": 1,
   "metadata": {},
   "outputs": [
    {
     "name": "stdout",
     "output_type": "stream",
     "text": [
      "Charmander at level 15\n",
      "Pidgey at level 11\n",
      "Sandshrew at level 18\n",
      "Rattata at level 5\n",
      "Abra at level 14\n"
     ]
    }
   ],
   "source": [
    "party = [\"Charmander\", \"Pidgey\", \"Sandshrew\", \"Rattata\", \"Abra\"] #This is a list of party\n",
    "levels = [15, 11, 18, 5, 14] #This is the list of levels\n",
    "for pokemon,level in zip(party,levels): #for loop then zip the party levels. zip function get the first element of party and levels. \n",
    "    print('{} at level {}'.format(pokemon, level)) #The first {} contains the pokemon, and the second {} contains the level"
   ]
  },
  {
   "cell_type": "markdown",
   "metadata": {},
   "source": [
    "###### Graded Cell 2"
   ]
  },
  {
   "cell_type": "code",
   "execution_count": 5,
   "metadata": {},
   "outputs": [
    {
     "name": "stdout",
     "output_type": "stream",
     "text": [
      "['Dialga', 'Regigigas', 'Onix']\n"
     ]
    }
   ],
   "source": [
    "reserves = [('Onix',10),       # This is a reserves list with their numbers \n",
    "            ('Slowpoke',18),\n",
    "            ('Dialga', 2),\n",
    "            ('Magikarp', 32),\n",
    "            ('Feebas', 22),\n",
    "            ('Swablu', 19),\n",
    "            ('Regigigas', 3),\n",
    "            ('Unown', 50)\n",
    "           ]\n",
    "del [reserves]        # The del function delete the reserves list\n",
    "pokemon = ['Dialga','Regigigas','Onix'] # Since the reserves is deleted, I made a new list (pokemon)\n",
    "print(pokemon)        #P rint the new list (pokemon) "
   ]
  },
  {
   "cell_type": "markdown",
   "metadata": {},
   "source": [
    "###### Graded Cell 3"
   ]
  },
  {
   "cell_type": "code",
   "execution_count": 6,
   "metadata": {},
   "outputs": [
    {
     "name": "stdout",
     "output_type": "stream",
     "text": [
      "['Charmander', 'Pidgey', 'Sandshrew', 'Rattata', 'Abra', 'Dialga']\n",
      "['Charmander', 'Pidgey', 'Sandshrew', 'Rattata', 'Abra', 'Regigigas']\n",
      "['Charmander', 'Pidgey', 'Sandshrew', 'Rattata', 'Abra', 'Onix']\n"
     ]
    }
   ],
   "source": [
    "party1 = [\"Charmander\", \"Pidgey\", \"Sandshrew\", \"Rattata\", \"Abra\"] #This is a list \n",
    "party2 = [\"Charmander\", \"Pidgey\", \"Sandshrew\", \"Rattata\", \"Abra\"] #This is a list\n",
    "party3 = [\"Charmander\", \"Pidgey\", \"Sandshrew\", \"Rattata\", \"Abra\"] #This is a list \n",
    "\n",
    "party1.append(pokemon[0]) #Append (add) new element from party1 list\n",
    "party2.append(pokemon[1]) #Append (add) new element from party2 list\n",
    "party3.append(pokemon[2]) #Append (add) new element from party3 list\n",
    "print (party1) #Print party1\n",
    "print (party2) #Print party2\n",
    "print (party3) #Print party3"
   ]
  },
  {
   "cell_type": "code",
   "execution_count": null,
   "metadata": {},
   "outputs": [],
   "source": []
  }
 ],
 "metadata": {
  "kernelspec": {
   "display_name": "Python 3",
   "language": "python",
   "name": "python3"
  },
  "language_info": {
   "codemirror_mode": {
    "name": "ipython",
    "version": 3
   },
   "file_extension": ".py",
   "mimetype": "text/x-python",
   "name": "python",
   "nbconvert_exporter": "python",
   "pygments_lexer": "ipython3",
   "version": "3.8.3"
  }
 },
 "nbformat": 4,
 "nbformat_minor": 4
}
